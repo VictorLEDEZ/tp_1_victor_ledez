{
 "cells": [
  {
   "cell_type": "code",
   "execution_count": 1,
   "source": [
    "import numpy as np"
   ],
   "outputs": [],
   "metadata": {}
  },
  {
   "cell_type": "markdown",
   "source": [
    "I] Introduction à Python, Numpy et Scipy"
   ],
   "metadata": {}
  },
  {
   "cell_type": "markdown",
   "source": [
    "1)"
   ],
   "metadata": {}
  },
  {
   "cell_type": "code",
   "execution_count": 2,
   "source": [
    "def nextpower(n):\r\n",
    "    return int(2 ** np.ceil(n))"
   ],
   "outputs": [],
   "metadata": {}
  },
  {
   "cell_type": "code",
   "execution_count": 3,
   "source": [
    "result = nextpower(2.1)\r\n",
    "print(result)\r\n",
    "type(result)"
   ],
   "outputs": [
    {
     "output_type": "stream",
     "name": "stdout",
     "text": [
      "8\n"
     ]
    },
    {
     "output_type": "execute_result",
     "data": {
      "text/plain": [
       "int"
      ]
     },
     "metadata": {},
     "execution_count": 3
    }
   ],
   "metadata": {}
  },
  {
   "cell_type": "markdown",
   "source": [
    "2."
   ],
   "metadata": {}
  },
  {
   "cell_type": "code",
   "execution_count": 4,
   "source": [
    "alphabet = 'abcdefghijklmnopqrstuvwxyz'\r\n",
    "\r\n",
    "word_1 = 'cfilorux'\r\n",
    "word_2 = 'vxz'\r\n",
    "\r\n",
    "slice_word_1 = slice(2, 24, 3)\r\n",
    "slice_word_2 = slice(21, 26, 2)\r\n",
    "\r\n",
    "print(alphabet[slice_word_1])\r\n",
    "print(alphabet[slice_word_2])"
   ],
   "outputs": [
    {
     "output_type": "stream",
     "name": "stdout",
     "text": [
      "cfilorux\n",
      "vxz\n"
     ]
    }
   ],
   "metadata": {}
  },
  {
   "cell_type": "markdown",
   "source": [
    "3."
   ],
   "metadata": {}
  },
  {
   "cell_type": "code",
   "execution_count": 5,
   "source": [
    "round(np.pi, 9)"
   ],
   "outputs": [
    {
     "output_type": "execute_result",
     "data": {
      "text/plain": [
       "3.141592654"
      ]
     },
     "metadata": {},
     "execution_count": 5
    }
   ],
   "metadata": {}
  },
  {
   "cell_type": "markdown",
   "source": [
    "4."
   ],
   "metadata": {}
  },
  {
   "cell_type": "code",
   "execution_count": 6,
   "source": [
    "s = 'HelLo WorLd!!'\r\n",
    "\r\n",
    "for char in set(s):\r\n",
    "    print(char + ' ' + str(s.count(char)))"
   ],
   "outputs": [
    {
     "output_type": "stream",
     "name": "stdout",
     "text": [
      "o 2\n",
      "r 1\n",
      "d 1\n",
      "! 2\n",
      "  1\n",
      "e 1\n",
      "L 2\n",
      "H 1\n",
      "W 1\n",
      "l 1\n"
     ]
    }
   ],
   "metadata": {}
  },
  {
   "cell_type": "markdown",
   "source": [
    "5."
   ],
   "metadata": {}
  },
  {
   "cell_type": "code",
   "execution_count": 7,
   "source": [
    "shift = 4\r\n",
    "\r\n",
    "def ceasar_code(letter):\r\n",
    "    index = alphabet.find(letter) + shift\r\n",
    "\r\n",
    "    while index >= len(alphabet):\r\n",
    "        index = index - len(alphabet)\r\n",
    "\r\n",
    "    return alphabet[index]\r\n",
    "\r\n",
    "word = 'helloworld'\r\n",
    "new_word = ''.join(list(map(ceasar_code, word)))\r\n",
    "print(new_word)"
   ],
   "outputs": [
    {
     "output_type": "stream",
     "name": "stdout",
     "text": [
      "lippsasvph\n"
     ]
    }
   ],
   "metadata": {}
  },
  {
   "cell_type": "markdown",
   "source": [
    "6."
   ],
   "metadata": {}
  },
  {
   "cell_type": "code",
   "execution_count": 8,
   "source": [
    "2 * np.prod([(4 * (i ** 2)) / (4 * (i ** 2) - 1) for i in range(1, 100_000)])"
   ],
   "outputs": [
    {
     "output_type": "execute_result",
     "data": {
      "text/plain": [
       "3.141584799578707"
      ]
     },
     "metadata": {},
     "execution_count": 8
    }
   ],
   "metadata": {}
  },
  {
   "cell_type": "markdown",
   "source": [
    "7."
   ],
   "metadata": {}
  },
  {
   "cell_type": "code",
   "execution_count": 13,
   "source": [
    "def quicksort(ll):\r\n",
    "    \"\"\"A sorting algorithm with a pivot value\"\"\"\r\n",
    "    if len(ll) <= 1:\r\n",
    "        return ll\r\n",
    "    else:\r\n",
    "        pivot = ll[-1]\r\n",
    "        less = []\r\n",
    "        greater = []\r\n",
    "        for x in ll:\r\n",
    "            if x <= pivot:\r\n",
    "                less.append(x)\r\n",
    "            else:\r\n",
    "                greater.append(x)\r\n",
    "        return less + [pivot] + greater\r\n",
    "\r\n",
    "print(quicksort([-2, 3, 5, 1, 3]))"
   ],
   "outputs": [
    {
     "output_type": "stream",
     "name": "stdout",
     "text": [
      "[-2, 3, 1, 3, 3, 5]\n"
     ]
    }
   ],
   "metadata": {}
  }
 ],
 "metadata": {
  "orig_nbformat": 4,
  "language_info": {
   "name": "python",
   "version": "3.9.7",
   "mimetype": "text/x-python",
   "codemirror_mode": {
    "name": "ipython",
    "version": 3
   },
   "pygments_lexer": "ipython3",
   "nbconvert_exporter": "python",
   "file_extension": ".py"
  },
  "kernelspec": {
   "name": "python3",
   "display_name": "Python 3.9.7 64-bit"
  },
  "interpreter": {
   "hash": "f489fa09b09661d741d1aee0482c3792118d516f8dffab1399d2c4234cb3cfaa"
  }
 },
 "nbformat": 4,
 "nbformat_minor": 2
}